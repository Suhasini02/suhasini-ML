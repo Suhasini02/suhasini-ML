{
 "cells": [
  {
   "cell_type": "code",
   "execution_count": 149,
   "id": "84ec5268",
   "metadata": {},
   "outputs": [],
   "source": [
    "import pandas as pd\n",
    "import numpy as np\n",
    "from numpy import random\n",
    "from matplotlib import pyplot as plt"
   ]
  },
  {
   "cell_type": "code",
   "execution_count": 150,
   "id": "3c55448e",
   "metadata": {},
   "outputs": [],
   "source": [
    "x=random.randn(1000)\n",
    "y=(0.8*random.randn(1000))+x"
   ]
  },
  {
   "cell_type": "code",
   "execution_count": 151,
   "id": "4e076bf4",
   "metadata": {},
   "outputs": [],
   "source": [
    "df=pd.DataFrame()"
   ]
  },
  {
   "cell_type": "code",
   "execution_count": 152,
   "id": "618ba80e",
   "metadata": {},
   "outputs": [
    {
     "data": {
      "text/html": [
       "<div>\n",
       "<style scoped>\n",
       "    .dataframe tbody tr th:only-of-type {\n",
       "        vertical-align: middle;\n",
       "    }\n",
       "\n",
       "    .dataframe tbody tr th {\n",
       "        vertical-align: top;\n",
       "    }\n",
       "\n",
       "    .dataframe thead th {\n",
       "        text-align: right;\n",
       "    }\n",
       "</style>\n",
       "<table border=\"1\" class=\"dataframe\">\n",
       "  <thead>\n",
       "    <tr style=\"text-align: right;\">\n",
       "      <th></th>\n",
       "    </tr>\n",
       "  </thead>\n",
       "  <tbody>\n",
       "  </tbody>\n",
       "</table>\n",
       "</div>"
      ],
      "text/plain": [
       "Empty DataFrame\n",
       "Columns: []\n",
       "Index: []"
      ]
     },
     "execution_count": 152,
     "metadata": {},
     "output_type": "execute_result"
    }
   ],
   "source": [
    "df"
   ]
  },
  {
   "cell_type": "code",
   "execution_count": 153,
   "id": "9ced4cb1",
   "metadata": {},
   "outputs": [
    {
     "data": {
      "text/html": [
       "<div>\n",
       "<style scoped>\n",
       "    .dataframe tbody tr th:only-of-type {\n",
       "        vertical-align: middle;\n",
       "    }\n",
       "\n",
       "    .dataframe tbody tr th {\n",
       "        vertical-align: top;\n",
       "    }\n",
       "\n",
       "    .dataframe thead th {\n",
       "        text-align: right;\n",
       "    }\n",
       "</style>\n",
       "<table border=\"1\" class=\"dataframe\">\n",
       "  <thead>\n",
       "    <tr style=\"text-align: right;\">\n",
       "      <th></th>\n",
       "      <th>X</th>\n",
       "      <th>Y</th>\n",
       "    </tr>\n",
       "  </thead>\n",
       "  <tbody>\n",
       "    <tr>\n",
       "      <th>0</th>\n",
       "      <td>-1.033953</td>\n",
       "      <td>-1.722840</td>\n",
       "    </tr>\n",
       "    <tr>\n",
       "      <th>1</th>\n",
       "      <td>-0.685677</td>\n",
       "      <td>-2.553401</td>\n",
       "    </tr>\n",
       "    <tr>\n",
       "      <th>2</th>\n",
       "      <td>0.462363</td>\n",
       "      <td>-0.608483</td>\n",
       "    </tr>\n",
       "    <tr>\n",
       "      <th>3</th>\n",
       "      <td>-0.415664</td>\n",
       "      <td>-1.439378</td>\n",
       "    </tr>\n",
       "    <tr>\n",
       "      <th>4</th>\n",
       "      <td>0.486109</td>\n",
       "      <td>2.301179</td>\n",
       "    </tr>\n",
       "    <tr>\n",
       "      <th>...</th>\n",
       "      <td>...</td>\n",
       "      <td>...</td>\n",
       "    </tr>\n",
       "    <tr>\n",
       "      <th>995</th>\n",
       "      <td>0.985246</td>\n",
       "      <td>1.132320</td>\n",
       "    </tr>\n",
       "    <tr>\n",
       "      <th>996</th>\n",
       "      <td>-0.997269</td>\n",
       "      <td>-1.404012</td>\n",
       "    </tr>\n",
       "    <tr>\n",
       "      <th>997</th>\n",
       "      <td>-2.486990</td>\n",
       "      <td>-1.849378</td>\n",
       "    </tr>\n",
       "    <tr>\n",
       "      <th>998</th>\n",
       "      <td>-0.703579</td>\n",
       "      <td>0.291648</td>\n",
       "    </tr>\n",
       "    <tr>\n",
       "      <th>999</th>\n",
       "      <td>-0.884903</td>\n",
       "      <td>-0.446475</td>\n",
       "    </tr>\n",
       "  </tbody>\n",
       "</table>\n",
       "<p>1000 rows × 2 columns</p>\n",
       "</div>"
      ],
      "text/plain": [
       "            X         Y\n",
       "0   -1.033953 -1.722840\n",
       "1   -0.685677 -2.553401\n",
       "2    0.462363 -0.608483\n",
       "3   -0.415664 -1.439378\n",
       "4    0.486109  2.301179\n",
       "..        ...       ...\n",
       "995  0.985246  1.132320\n",
       "996 -0.997269 -1.404012\n",
       "997 -2.486990 -1.849378\n",
       "998 -0.703579  0.291648\n",
       "999 -0.884903 -0.446475\n",
       "\n",
       "[1000 rows x 2 columns]"
      ]
     },
     "execution_count": 153,
     "metadata": {},
     "output_type": "execute_result"
    }
   ],
   "source": [
    "df.insert(0,\"X\",x)\n",
    "df.insert(1,\"Y\",y)\n",
    "df"
   ]
  },
  {
   "cell_type": "code",
   "execution_count": 154,
   "id": "2184ca5f",
   "metadata": {},
   "outputs": [],
   "source": [
    "x_mean = np.mean(X)\n",
    "y_mean = np.mean(Y)"
   ]
  },
  {
   "cell_type": "code",
   "execution_count": 155,
   "id": "1dd82bfb",
   "metadata": {},
   "outputs": [
    {
     "name": "stdout",
     "output_type": "stream",
     "text": [
      "Slope   0.979715891099543\n",
      "Intercept  -0.024831047262978245\n"
     ]
    }
   ],
   "source": [
    "nume=0\n",
    "deno=0\n",
    "n=1000\n",
    "for i in range(1000):\n",
    "    nume+=(x[i]-x_mean)*(y[i]-y_mean)\n",
    "    deno+=(x[i]-x_mean)*(x[i]-x_mean)\n",
    "m=nume/deno\n",
    "c=y_mean-(m*x_mean)\n",
    "y_pred=m*x+c\n",
    "print (\"Slope  \",m)\n",
    "print(\"Intercept \",c)"
   ]
  },
  {
   "cell_type": "code",
   "execution_count": 156,
   "id": "d4c53773",
   "metadata": {},
   "outputs": [],
   "source": [
    "sum_xy = np.sum(y*x) - n*y_mean*x_mean\n",
    "sum_xx = np.sum(x*x) - n*x_mean*x_mean\n",
    "b1 = sum_xy / sum_xx\n",
    "b0 = y_mean - b1*x_mean"
   ]
  },
  {
   "cell_type": "code",
   "execution_count": 157,
   "id": "e2ec8087",
   "metadata": {},
   "outputs": [
    {
     "data": {
      "image/png": "[encoded data removed]",
      "text/plain": [
       "<Figure size 432x288 with 1 Axes>"
      ]
     },
     "metadata": {
      "needs_background": "light"
     },
     "output_type": "display_data"
    }
   ],
   "source": [
    "import matplotlib.pyplot as plt\n",
    "plt.scatter(x,y,color = \"r\", s = 10)\n",
    "plt.plot(x, y_pred, color = \"b\")\n",
    "plt.xlabel('x')\n",
    "plt.ylabel('y')\n",
    "plt.show()"
   ]
  },
  {
   "cell_type": "code",
   "execution_count": 158,
   "id": "40eb5096",
   "metadata": {},
   "outputs": [
    {
     "name": "stdout",
     "output_type": "stream",
     "text": [
      "Slope from Gradient Descent  0.891691489637935\n",
      "Intercept from Gradient Descent  -0.03161361214857069\n"
     ]
    }
   ],
   "source": [
    "M = 0\n",
    "C = 0\n",
    "L = 0.001 #learning rate\n",
    "itr = 1000 #number of iterations\n",
    "# Performing Gradient Descent \n",
    "for i in range(itr): \n",
    "    Y_pred = M*x + C  # The current predicted value of Y\n",
    "    D_m = (-2/n) * sum(x * (y - Y_pred))  # Derivative wrt m\n",
    "    D_c = (-2/n) * sum(y - Y_pred)  # Derivative wrt c\n",
    "    M = M - L * D_m  # Update m\n",
    "    C = C - L * D_c  # Update c\n",
    "    \n",
    "\n",
    "print(\"Slope from Gradient Descent \",M)\n",
    "print(\"Intercept from Gradient Descent \",C)"
   ]
  },
  {
   "cell_type": "code",
   "execution_count": null,
   "id": "126ba3be",
   "metadata": {},
   "outputs": [],
   "source": [
    "plt.plot(x,M*x+C,c='black')\n",
    "plt.scatter(x,y,s=7,c='orange')\n",
    "plt.show()"
   ]
  }
 ],
 "metadata": {
  "kernelspec": {
   "display_name": "Python 3 (ipykernel)",
   "language": "python",
   "name": "python3"
  },
  "language_info": {
   "codemirror_mode": {
    "name": "ipython",
    "version": 3
   },
   "file_extension": ".py",
   "mimetype": "text/x-python",
   "name": "python",
   "nbconvert_exporter": "python",
   "pygments_lexer": "ipython3",
   "version": "3.9.12"
  }
 },
 "nbformat": 4,
 "nbformat_minor": 5
}
